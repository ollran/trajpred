{
 "cells": [
  {
   "cell_type": "code",
   "execution_count": 1,
   "metadata": {},
   "outputs": [
    {
     "data": {
      "text/plain": [
       "{'divide': 'warn', 'over': 'warn', 'under': 'ignore', 'invalid': 'warn'}"
      ]
     },
     "execution_count": 1,
     "metadata": {},
     "output_type": "execute_result"
    }
   ],
   "source": [
    "import numpy as np\n",
    "import matplotlib.pyplot as plt\n",
    "from utils import bullet, dataset, distance, error, output, report, speed, split\n",
    "np.seterr('raise')"
   ]
  },
  {
   "cell_type": "code",
   "execution_count": 2,
   "metadata": {},
   "outputs": [],
   "source": [
    "data = dataset.load_trajectory(898, 1393786760018)\n",
    "head, tail = split.split_trajectory_with_overlap(data, 0.75)\n",
    "\n",
    "# print(head[-10:], '\\n\\n', tail[:10])"
   ]
  },
  {
   "cell_type": "code",
   "execution_count": 3,
   "metadata": {},
   "outputs": [
    {
     "data": {
      "text/plain": [
       "3.0618336105497335"
      ]
     },
     "execution_count": 3,
     "metadata": {},
     "output_type": "execute_result"
    }
   ],
   "source": [
    "speed.calculate_speed_in_ms(head[-2], head[-1])"
   ]
  },
  {
   "cell_type": "code",
   "execution_count": 4,
   "metadata": {
    "scrolled": true
   },
   "outputs": [
    {
     "name": "stdout",
     "output_type": "stream",
     "text": [
      "1228.617344478807\n",
      "162.51945247631156\n"
     ]
    }
   ],
   "source": [
    "head_x, head_y = head[:, 0], head[:, 1]\n",
    "tail_x, tail_y = tail[:, 0], tail[:, 1]\n",
    "\n",
    "prediction = bullet.bullet_prediction(head, 60)\n",
    "pred_x, pred_y = prediction[:, 0], prediction[:, 1]\n",
    "\n",
    "print(distance.calculate_trajectory_length_in_meters(tail))\n",
    "print(distance.calculate_trajectory_length_in_meters(prediction))"
   ]
  },
  {
   "cell_type": "code",
   "execution_count": 5,
   "metadata": {
    "scrolled": true
   },
   "outputs": [
    {
     "data": {
      "image/png": "[encoded data removed]",
      "text/plain": [
       "<Figure size 432x288 with 1 Axes>"
      ]
     },
     "metadata": {
      "needs_background": "light"
     },
     "output_type": "display_data"
    },
    {
     "name": "stdout",
     "output_type": "stream",
     "text": [
      "1228.617344478807\n",
      "162.51945247631156\n"
     ]
    }
   ],
   "source": [
    "plt.plot(head_y[-35:], head_x[-35:])\n",
    "plt.plot(tail_y[:20], tail_x[:20])\n",
    "plt.plot(pred_y, pred_x)\n",
    "plt.show()\n",
    "\n",
    "print(distance.calculate_trajectory_length_in_meters(tail))\n",
    "print(distance.calculate_trajectory_length_in_meters(prediction))\n",
    "\n",
    "output.output_coordinates_to_file(\"../head.txt\", head)\n",
    "output.output_coordinates_to_file(\"../tail.txt\", tail)\n",
    "output.output_coordinates_to_file(\"../pred.txt\", prediction)"
   ]
  },
  {
   "cell_type": "code",
   "execution_count": 6,
   "metadata": {},
   "outputs": [
    {
     "name": "stdout",
     "output_type": "stream",
     "text": [
      "\n",
      "ERROR STATISTICS \n",
      "average\t\t\t 676.7346883568762 \n",
      "median\t\t\t 426.4256514681637 \n",
      "standard deviation\t 966.66203804719 \n",
      "failed predictions\t 21\n"
     ]
    },
    {
     "data": {
      "text/plain": [
       "{'user_id': 898,\n",
       " 'method': 'bullet',\n",
       " 'ratio': 0.5,\n",
       " 'threshold': 10,\n",
       " 'time': 60,\n",
       " 'failed predictions': 21,\n",
       " 'error average': 676.7346883568762,\n",
       " 'error median': 426.4256514681637,\n",
       " 'error standard deviation': 966.66203804719}"
      ]
     },
     "execution_count": 6,
     "metadata": {},
     "output_type": "execute_result"
    }
   ],
   "source": [
    "report.generate_report_for_user(user_id=898, method='bullet', ratio=0.5, time=60, verbosity=1)"
   ]
  },
  {
   "cell_type": "code",
   "execution_count": null,
   "metadata": {},
   "outputs": [],
   "source": []
  }
 ],
 "metadata": {
  "kernelspec": {
   "display_name": "Python 3",
   "language": "python",
   "name": "python3"
  },
  "language_info": {
   "codemirror_mode": {
    "name": "ipython",
    "version": 3
   },
   "file_extension": ".py",
   "mimetype": "text/x-python",
   "name": "python",
   "nbconvert_exporter": "python",
   "pygments_lexer": "ipython3",
   "version": "3.7.4"
  }
 },
 "nbformat": 4,
 "nbformat_minor": 2
}
