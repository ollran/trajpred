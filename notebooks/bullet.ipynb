{
 "cells": [
  {
   "cell_type": "code",
   "execution_count": 1,
   "metadata": {},
   "outputs": [
    {
     "data": {
      "text/plain": [
       "{'divide': 'warn', 'over': 'warn', 'under': 'ignore', 'invalid': 'warn'}"
      ]
     },
     "execution_count": 1,
     "metadata": {},
     "output_type": "execute_result"
    }
   ],
   "source": [
    "import numpy as np\n",
    "import matplotlib.pyplot as plt\n",
    "from utils import bullet, dataset, error, speed, split\n",
    "np.seterr('raise')"
   ]
  },
  {
   "cell_type": "code",
   "execution_count": 2,
   "metadata": {},
   "outputs": [
    {
     "name": "stdout",
     "output_type": "stream",
     "text": [
      "[[6.26022950e+01 2.97492340e+01 1.37632334e+12 0.00000000e+00]\n",
      " [6.26022710e+01 2.97493520e+01 1.37632335e+12 0.00000000e+00]\n",
      " [6.26022460e+01 2.97494740e+01 1.37632335e+12 0.00000000e+00]\n",
      " [6.26022090e+01 2.97496640e+01 1.37632335e+12 0.00000000e+00]\n",
      " [6.26021840e+01 2.97497910e+01 1.37632335e+12 0.00000000e+00]\n",
      " [6.26021680e+01 2.97499310e+01 1.37632336e+12 0.00000000e+00]\n",
      " [6.26021520e+01 2.97500700e+01 1.37632336e+12 0.00000000e+00]\n",
      " [6.26021300e+01 2.97502050e+01 1.37632336e+12 0.00000000e+00]\n",
      " [6.26021060e+01 2.97503390e+01 1.37632336e+12 0.00000000e+00]\n",
      " [6.26020820e+01 2.97505370e+01 1.37632337e+12 0.00000000e+00]] \n",
      "\n",
      " [[6.26020820e+01 2.97505370e+01 1.37632337e+12 0.00000000e+00]\n",
      " [6.26020560e+01 2.97506580e+01 1.37632337e+12 0.00000000e+00]\n",
      " [6.26020270e+01 2.97507770e+01 1.37632337e+12 0.00000000e+00]\n",
      " [6.26019950e+01 2.97508840e+01 1.37632337e+12 0.00000000e+00]\n",
      " [6.26019560e+01 2.97510560e+01 1.37632337e+12 0.00000000e+00]\n",
      " [6.26019340e+01 2.97511770e+01 1.37632338e+12 0.00000000e+00]\n",
      " [6.26019090e+01 2.97512970e+01 1.37632338e+12 0.00000000e+00]\n",
      " [6.26018710e+01 2.97514810e+01 1.37632338e+12 0.00000000e+00]\n",
      " [6.26018460e+01 2.97516100e+01 1.37632338e+12 0.00000000e+00]\n",
      " [6.26018220e+01 2.97517350e+01 1.37632339e+12 0.00000000e+00]]\n"
     ]
    }
   ],
   "source": [
    "data = dataset.load_trajectory(898, 1376323154598)\n",
    "head, tail = split.split_trajectory_with_overlap(data, 0.5)\n",
    "\n",
    "print(head[-10:], '\\n\\n', tail[:10])"
   ]
  },
  {
   "cell_type": "code",
   "execution_count": 3,
   "metadata": {},
   "outputs": [
    {
     "data": {
      "text/plain": [
       "3.5287690365045834"
      ]
     },
     "execution_count": 3,
     "metadata": {},
     "output_type": "execute_result"
    }
   ],
   "source": [
    "speed.calculate_speed_in_ms(head[-2], head[-1])"
   ]
  },
  {
   "cell_type": "code",
   "execution_count": 4,
   "metadata": {
    "scrolled": true
   },
   "outputs": [
    {
     "name": "stdout",
     "output_type": "stream",
     "text": [
      "[[6.26020820e+01 2.97505370e+01 1.37632337e+12 0.00000000e+00]\n",
      " [6.26020342e+01 2.97509310e+01 1.37632337e+12 0.00000000e+00]\n",
      " [6.26019392e+01 2.97517148e+01 1.37632338e+12 0.00000000e+00]\n",
      " [6.26018432e+01 2.97525068e+01 1.37632339e+12 0.00000000e+00]]\n"
     ]
    }
   ],
   "source": [
    "head_x, head_y = head[:, 0], head[:, 1]\n",
    "tail_x, tail_y = tail[:, 0], tail[:, 1]\n",
    "\n",
    "prediction = bullet.bullet_prediction(head[-2], head[-1], 3)\n",
    "pred_x, pred_y = prediction[:, 0], prediction[:, 1]\n",
    "\n",
    "print(prediction)"
   ]
  },
  {
   "cell_type": "code",
   "execution_count": 5,
   "metadata": {
    "scrolled": true
   },
   "outputs": [
    {
     "data": {
      "image/png": "[encoded data removed]",
      "text/plain": [
       "<Figure size 432x288 with 1 Axes>"
      ]
     },
     "metadata": {
      "needs_background": "light"
     },
     "output_type": "display_data"
    }
   ],
   "source": [
    "head_y, head_x = head_y[-10:], head_x[-10:]\n",
    "plt.plot(head_y, head_x)\n",
    "plt.plot(tail_y, tail_x)\n",
    "plt.plot(pred_y, pred_x)\n",
    "plt.show()"
   ]
  },
  {
   "cell_type": "code",
   "execution_count": 6,
   "metadata": {},
   "outputs": [
    {
     "name": "stdout",
     "output_type": "stream",
     "text": [
      "[ 0.         14.17451439 48.96766287 84.73456597]\n"
     ]
    }
   ],
   "source": [
    "errors = error.calculate_error_vector(tail, prediction)\n",
    "print(errors[:, 4])"
   ]
  },
  {
   "cell_type": "code",
   "execution_count": 17,
   "metadata": {},
   "outputs": [
    {
     "name": "stdout",
     "output_type": "stream",
     "text": [
      "ERROR STATISTICS \n",
      "average\t\t\t 87.578156048683 \n",
      "median\t\t\t 56.45765119320747 \n",
      "standard deviation\t 123.72355207172127\n"
     ]
    }
   ],
   "source": [
    "SECONDS = 3\n",
    "data = dataset.load_users_trajectories(898)\n",
    "split_data = split.split_trajectories_with_overlap(data, 0.75)\n",
    "\n",
    "predictions = list(map(\n",
    "    lambda row: (row[1], bullet.bullet_prediction(row[0][-2], row[0][-1], SECONDS)),\n",
    "    split_data\n",
    "))\n",
    "errors = list(map(\n",
    "    lambda row: error.calculate_error_vector(row[1], row[0])[:, 4],\n",
    "    predictions\n",
    "))\n",
    "errors_sum = list(map(sum, errors))\n",
    "\n",
    "print(\n",
    "    'ERROR STATISTICS',\n",
    "    '\\naverage\\t\\t\\t', np.average(errors_sum),\n",
    "    '\\nmedian\\t\\t\\t', np.median(errors_sum),\n",
    "    '\\nstandard deviation\\t', np.std(errors_sum)\n",
    ")"
   ]
  },
  {
   "cell_type": "code",
   "execution_count": null,
   "metadata": {},
   "outputs": [],
   "source": []
  }
 ],
 "metadata": {
  "kernelspec": {
   "display_name": "Python 3",
   "language": "python",
   "name": "python3"
  },
  "language_info": {
   "codemirror_mode": {
    "name": "ipython",
    "version": 3
   },
   "file_extension": ".py",
   "mimetype": "text/x-python",
   "name": "python",
   "nbconvert_exporter": "python",
   "pygments_lexer": "ipython3",
   "version": "3.7.4"
  }
 },
 "nbformat": 4,
 "nbformat_minor": 2
}
