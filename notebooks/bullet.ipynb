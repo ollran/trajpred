{
 "cells": [
  {
   "cell_type": "code",
   "execution_count": 2,
   "metadata": {},
   "outputs": [],
   "source": [
    "import numpy as np\n",
    "import matplotlib.pyplot as plt"
   ]
  },
  {
   "cell_type": "code",
   "execution_count": 9,
   "metadata": {},
   "outputs": [
    {
     "name": "stdout",
     "output_type": "stream",
     "text": [
      "[[ 6.26147800e+01  2.97424900e+01  1.21646150e+12 -1.00000000e+00]\n",
      " [ 6.26147140e+01  2.97426650e+01  1.21646151e+12 -1.00000000e+00]\n",
      " [ 6.26146920e+01  2.97427080e+01  1.21646151e+12 -1.00000000e+00]\n",
      " [ 6.26146930e+01  2.97427640e+01  1.21646152e+12 -1.00000000e+00]\n",
      " [ 6.26147020e+01  2.97427980e+01  1.21646152e+12 -1.00000000e+00]\n",
      " [ 6.26147380e+01  2.97427710e+01  1.21646153e+12 -1.00000000e+00]\n",
      " [ 6.26147640e+01  2.97427430e+01  1.21646153e+12 -1.00000000e+00]\n",
      " [ 6.26148180e+01  2.97429130e+01  1.21646154e+12 -1.00000000e+00]\n",
      " [ 6.26148340e+01  2.97433100e+01  1.21646155e+12 -1.00000000e+00]\n",
      " [ 6.26148280e+01  2.97433610e+01  1.21646155e+12 -1.00000000e+00]]\n"
     ]
    }
   ],
   "source": [
    "data = np.loadtxt('../dataset/10/1216461503656')\n",
    "head = data[:10]\n",
    "print(head)"
   ]
  },
  {
   "cell_type": "code",
   "execution_count": null,
   "metadata": {},
   "outputs": [],
   "source": []
  }
 ],
 "metadata": {
  "kernelspec": {
   "display_name": "Python 3",
   "language": "python",
   "name": "python3"
  },
  "language_info": {
   "codemirror_mode": {
    "name": "ipython",
    "version": 3
   },
   "file_extension": ".py",
   "mimetype": "text/x-python",
   "name": "python",
   "nbconvert_exporter": "python",
   "pygments_lexer": "ipython3",
   "version": "3.7.4"
  }
 },
 "nbformat": 4,
 "nbformat_minor": 2
}
